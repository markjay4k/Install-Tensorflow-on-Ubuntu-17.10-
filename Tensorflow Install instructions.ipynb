{
 "cells": [
  {
   "cell_type": "markdown",
   "metadata": {
    "slideshow": {
     "slide_type": "slide"
    }
   },
   "source": [
    "# Install Tensorflow on Ubuntu (17.10)\n",
    "\n",
    "## Requirements\n",
    "\n",
    "- An NVIDIA GPU with a compute capability of 3.0 or higher.\n",
    "    - I'll be using a GTX 1050 Ti hooked up externally to a thinkpad T420s through the express card port\n",
    "- Python installed.\n",
    "    - Ubuntu comes with python already installed but I will be using anaconda"
   ]
  },
  {
   "cell_type": "markdown",
   "metadata": {
    "slideshow": {
     "slide_type": "slide"
    }
   },
   "source": [
    "## Overview\n",
    "\n",
    "- Step 1: Update your GPU driver (should be higher than version 390)\n",
    "- Step 2: Install the CUDA Toolkit version 9.0 (with all the patches)\n",
    "- Step 3: Install CUDNN 7.0.5\n",
    "- Step 4: Install Tensorflow GPU with pip\n",
    "- Step 5: Test it!"
   ]
  },
  {
   "cell_type": "markdown",
   "metadata": {
    "slideshow": {
     "slide_type": "slide"
    }
   },
   "source": [
    "## Step 1: Update your GPU driver\n",
    "\n",
    "Open a terminal and run the following 3 commands\n",
    "\n",
    "```shell\n",
    "sudo add-apt-repository ppa:graphics-drivers/ppa\n",
    "sudo apt update\n",
    "sudo apt install nvidia-390\n",
    "```\n",
    "\n",
    "Reboot your computer. To verify the installation, open a terminal and run the following command\n",
    "\n",
    "```shell\n",
    "nvidia-smi\n",
    "```\n",
    "The output should show the GPU name and the driver"
   ]
  },
  {
   "cell_type": "markdown",
   "metadata": {
    "slideshow": {
     "slide_type": "slide"
    }
   },
   "source": [
    "## Step 2: Install the CUDA Toolkit (9.0)\n",
    "\n",
    "- go to https://developer.nvidia.com/cuda-90-download-archive and download the toolkit for linux, x86_64, ubuntu, 17.04, deb l\n",
    "- once the download is complete, open a terminal in the directory the base installer is and run the follow commands\n",
    "\n",
    "```shell\n",
    "sudo dpkg -i cuda-repo-ubuntu1704-9-0-local_9.0.176-1_amd64.deb\n",
    "sudo apt-key add /var/cuda-repo-9-0-local/7fa2af80.pub\n",
    "sudo apt-get update\n",
    "sudo apt-get install cuda\n",
    "```\n",
    "- download patch 1 and install (you should get a prompt to install once its done downloading)\n",
    "- download patch 2 and install (you should get a prompt to install once its done downloading)\n",
    "- open your ```.bashrc``` file with nano\n",
    "\n",
    "```shell\n",
    "sudo nano ~/.bashrc\n",
    "```\n",
    "- go to the last line and add the following lines (this will set your PATH variable)\n",
    "\n",
    "```\n",
    "export PATH=/usr/local/cuda-9.0/bin${PATH:+:$PATH}}\n",
    "export LD_LIBRARY_PATH=/usr/local/cuda-9.0/lib64${LD_LIBRARY_PATH:+:${LD_LIBRARY_PATH}}\n",
    "```"
   ]
  },
  {
   "cell_type": "markdown",
   "metadata": {
    "slideshow": {
     "slide_type": "slide"
    }
   },
   "source": [
    "## Step 3: Install CUDNN 7.0.5\n",
    "\n",
    "- go to https://developer.nvidia.com/cudnn\n",
    "- Select CUDNN 7.0.5 for CUDA 9.0\n",
    "- download the cuDNN v7.0.5 Library for Linux (tar file)\n",
    "- open a terminal in the directory the tar file is located\n",
    "- unzip the tar file using the command\n",
    "\n",
    "```shell\n",
    "tar -xzvf cudnn-9.0-linux-x64-v7.tgz\n",
    "```\n",
    "- run the following commands to move the appropriate files to the CUDA folder\n",
    "\n",
    "```shell\n",
    "sudo cp cuda/include/cudnn.h /usr/local/cuda/include\n",
    "sudo cp cuda/lib64/libcudnn* /usr/local/cuda/lib64\n",
    "sudo chmod a+r /usr/local/cuda/include/cudnn.h /usr/local/cuda/lib64/libcudnn*\n",
    "```"
   ]
  },
  {
   "cell_type": "markdown",
   "metadata": {
    "slideshow": {
     "slide_type": "slide"
    }
   },
   "source": [
    "## Step 4: pip install tensorflow-gpu\n",
    "\n",
    "I will be using a conda environment for installing tensorflow\n",
    "\n",
    "- create a conda environment by using the following command\n",
    "\n",
    "```shell\n",
    "conda create -n tf python=3.6 pip\n",
    "```\n",
    "- activate your environment using\n",
    "\n",
    "```shell\n",
    "source activate tf\n",
    "```\n",
    "\n",
    "run the following command to install tensorflow\n",
    "\n",
    "```shell\n",
    "pip install tensorflow-gpu==1.5\n",
    "```"
   ]
  },
  {
   "cell_type": "markdown",
   "metadata": {
    "slideshow": {
     "slide_type": "slide"
    }
   },
   "source": [
    "## Step 5: Test it!\n",
    "\n",
    "- start a python interpreter in the terminal by typing\n",
    "\n",
    "```shell\n",
    "python\n",
    "```\n",
    "- run the following lines\n",
    "\n",
    "```python\n",
    ">>> import tensorflow as tf\n",
    ">>> hello = tf.constant('hello tensorflow')\n",
    ">>> with tf.Session() as sesh:\n",
    ">>>     sesh.run(hello)     \n",
    "```\n",
    "\n",
    "- the output should be \n",
    "\n",
    "```python\n",
    ">>> 'hello tensorflow'\n",
    "```"
   ]
  },
  {
   "cell_type": "markdown",
   "metadata": {
    "slideshow": {
     "slide_type": "slide"
    }
   },
   "source": [
    "## Troubleshooting\n",
    "\n",
    "If you get an error containing \"ImportError: libcudart.so.7.0: cannot open shared object file: No such file or directory\"\n",
    "\n",
    "Exit the python shell with \n",
    "```python\n",
    ">>> quit()\n",
    "```\n",
    "\n",
    "Then run the following command:\n",
    "```shell\n",
    "sudo ldconfig /usr/local/cuda/lib64\n",
    "```\n",
    "\n",
    "Repeat step 5 and it should work."
   ]
  },
  {
   "cell_type": "code",
   "execution_count": null,
   "metadata": {
    "collapsed": true,
    "slideshow": {
     "slide_type": "skip"
    }
   },
   "outputs": [],
   "source": []
  }
 ],
 "metadata": {
  "celltoolbar": "Slideshow",
  "kernelspec": {
   "display_name": "Python 3",
   "language": "python",
   "name": "python3"
  },
  "language_info": {
   "codemirror_mode": {
    "name": "ipython",
    "version": 3
   },
   "file_extension": ".py",
   "mimetype": "text/x-python",
   "name": "python",
   "nbconvert_exporter": "python",
   "pygments_lexer": "ipython3",
   "version": "3.6.5"
  }
 },
 "nbformat": 4,
 "nbformat_minor": 2
}
